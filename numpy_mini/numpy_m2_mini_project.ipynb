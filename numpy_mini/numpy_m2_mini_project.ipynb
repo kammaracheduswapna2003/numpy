{
  "nbformat": 4,
  "nbformat_minor": 0,
  "metadata": {
    "colab": {
      "provenance": []
    },
    "kernelspec": {
      "name": "python3",
      "display_name": "Python 3"
    },
    "language_info": {
      "name": "python"
    }
  },
  "cells": [
    {
      "cell_type": "markdown",
      "source": [
        "***DATA CREATION***"
      ],
      "metadata": {
        "id": "vetIKIDm5t7r"
      }
    },
    {
      "cell_type": "code",
      "source": [
        "import numpy as np"
      ],
      "metadata": {
        "id": "5zFrUUYN7eW2"
      },
      "execution_count": 2,
      "outputs": []
    },
    {
      "cell_type": "code",
      "execution_count": 31,
      "metadata": {
        "colab": {
          "base_uri": "https://localhost:8080/"
        },
        "id": "iNK_y-jM5Llf",
        "outputId": "04e1c5f7-60b5-4659-a720-67eddea8c5d2"
      },
      "outputs": [
        {
          "output_type": "stream",
          "name": "stdout",
          "text": [
            "students: ['a' 'b' 'c' 'd']\n",
            "subjects: [101 102 103]\n",
            "marks: [[50 45 70]\n",
            " [55 80 40]\n",
            " [85 55 35]\n",
            " [60 40 80]]\n"
          ]
        },
        {
          "output_type": "execute_result",
          "data": {
            "text/plain": [
              "array([[50, 45, 70],\n",
              "       [55, 80, 40],\n",
              "       [85, 55, 35],\n",
              "       [60, 40, 80]])"
            ]
          },
          "metadata": {},
          "execution_count": 31
        }
      ],
      "source": [
        "students=np.array(['a','b','c','d'])\n",
        "subjects=np.array([101,102,103])\n",
        "marks=np.array([[50,45,70],\n",
        "                [55,80,40],\n",
        "                [85,55,35],\n",
        "                [60,40,80]])\n",
        "print(\"students:\",students)\n",
        "print(\"subjects:\",subjects)\n",
        "print(\"marks:\",marks)"
      ]
    },
    {
      "cell_type": "markdown",
      "source": [
        "***DATA EXPLORATION***"
      ],
      "metadata": {
        "id": "bmEB6nyr72a0"
      }
    },
    {
      "cell_type": "code",
      "source": [
        "print(\"dimensions:\",marks.ndim)\n",
        "print(\"size:\",marks.size)\n",
        "print(\"shape:\",marks.shape)"
      ],
      "metadata": {
        "colab": {
          "base_uri": "https://localhost:8080/"
        },
        "id": "QM-ReUpp7hyl",
        "outputId": "3c497811-e39b-41f0-d60b-ae8cc0ad8d63"
      },
      "execution_count": 5,
      "outputs": [
        {
          "output_type": "stream",
          "name": "stdout",
          "text": [
            "dimensions: 2\n",
            "size: 12\n",
            "shape: (4, 3)\n"
          ]
        }
      ]
    },
    {
      "cell_type": "markdown",
      "source": [
        "***DATA TRANSFORMATION***"
      ],
      "metadata": {
        "id": "lOF-lmk79Cjt"
      }
    },
    {
      "cell_type": "code",
      "source": [
        "reshape=marks.reshape((4,3))\n",
        "flatten=marks.flatten()\n",
        "transpose=marks.T\n",
        "print(\"reshaped array:\",reshape)\n",
        "print(\"flattend array:\",flatten)\n",
        "print(\"Transposed array:\",transpose)"
      ],
      "metadata": {
        "colab": {
          "base_uri": "https://localhost:8080/"
        },
        "id": "yKCGZCrs88mp",
        "outputId": "df477974-15bd-4c2c-a89a-24de59a82fca"
      },
      "execution_count": 11,
      "outputs": [
        {
          "output_type": "stream",
          "name": "stdout",
          "text": [
            "reshaped array: [[50 45 70]\n",
            " [55 80 40]\n",
            " [85 55 35]\n",
            " [60 40 80]]\n",
            "flattend array: [50 45 70 55 80 40 85 55 35 60 40 80]\n",
            "Transposed array: [[50 55 85 60]\n",
            " [45 80 55 40]\n",
            " [70 40 35 80]]\n"
          ]
        }
      ]
    },
    {
      "cell_type": "markdown",
      "source": [
        "***DATA COMBINATION***"
      ],
      "metadata": {
        "id": "dTyK7R1p_fOE"
      }
    },
    {
      "cell_type": "code",
      "source": [
        "newstd_marks=np.array([[50,60,70]])\n",
        "\n",
        "newsub_marks=np.array([[80,55,30,80]])  #after adding new subject\n",
        "print(\"new student marks:\",np.vstack((marks,newstd_marks)))"
      ],
      "metadata": {
        "colab": {
          "base_uri": "https://localhost:8080/"
        },
        "id": "paPXCJS5-7Wm",
        "outputId": "817a06bd-f6af-4501-c7a6-e01a3c4e96cf"
      },
      "execution_count": 15,
      "outputs": [
        {
          "output_type": "stream",
          "name": "stdout",
          "text": [
            "new student marks: [[50 45 70]\n",
            " [55 80 40]\n",
            " [85 55 35]\n",
            " [60 40 80]\n",
            " [50 60 70]]\n"
          ]
        }
      ]
    },
    {
      "cell_type": "markdown",
      "source": [
        "***DATA MODIFICATION***"
      ],
      "metadata": {
        "id": "LimmSVzqDSVF"
      }
    },
    {
      "cell_type": "code",
      "source": [
        "unique_marks=np.unique(marks)\n",
        "delete=np.delete(marks,4)\n",
        "print(\"unique marks\",unique_marks)\n",
        "print(\"deleted marks:\",delete)"
      ],
      "metadata": {
        "colab": {
          "base_uri": "https://localhost:8080/"
        },
        "id": "3JDyMF3jC2t1",
        "outputId": "22eedf90-cd02-4d68-a20e-f8d4ba00c789"
      },
      "execution_count": 32,
      "outputs": [
        {
          "output_type": "stream",
          "name": "stdout",
          "text": [
            "unique marks [35 40 45 50 55 60 70 80 85]\n",
            "deleted marks: [50 45 70 55 40 85 55 35 60 40 80]\n"
          ]
        },
        {
          "output_type": "execute_result",
          "data": {
            "text/plain": [
              "array([[50, 45, 70],\n",
              "       [55, 80, 40],\n",
              "       [85, 55, 35],\n",
              "       [60, 40, 80]])"
            ]
          },
          "metadata": {},
          "execution_count": 32
        }
      ]
    },
    {
      "cell_type": "markdown",
      "source": [
        "***DATA TYPEHANDLING***"
      ],
      "metadata": {
        "id": "dXBlwlqHERuG"
      }
    },
    {
      "cell_type": "code",
      "source": [
        "data_type=marks.astype(float)\n",
        "dtype_subject=subjects.astype(str)\n",
        "print(\"datatype of marks:\",data_type)\n",
        "print(\"daattype of subject:\",dtype_subject)"
      ],
      "metadata": {
        "colab": {
          "base_uri": "https://localhost:8080/"
        },
        "id": "bcR84BujDpOl",
        "outputId": "3d8e9f38-f7e6-459c-dfc3-d09dc39edf8b"
      },
      "execution_count": 34,
      "outputs": [
        {
          "output_type": "stream",
          "name": "stdout",
          "text": [
            "datatype of marks: [[50. 45. 70.]\n",
            " [55. 80. 40.]\n",
            " [85. 55. 35.]\n",
            " [60. 40. 80.]]\n",
            "daattype of subject: ['101' '102' '103']\n"
          ]
        }
      ]
    },
    {
      "cell_type": "markdown",
      "source": [
        "***COPY AND VIEW BEHAVIOUR***"
      ],
      "metadata": {
        "id": "mLPrThF5FNZ5"
      }
    },
    {
      "cell_type": "code",
      "source": [
        "copy=np.copy(marks)\n",
        "copy[0][1]=60\n",
        "view=marks.view()\n",
        "view[1][2]=90\n",
        "print(\"original marks:\",marks)\n",
        "print(\"copy array:\",copy)\n",
        "print(\"view array:\",view)\n"
      ],
      "metadata": {
        "colab": {
          "base_uri": "https://localhost:8080/"
        },
        "id": "RbtAV8b3FKqX",
        "outputId": "938fce06-8480-4664-ae0f-037847a01645"
      },
      "execution_count": 35,
      "outputs": [
        {
          "output_type": "stream",
          "name": "stdout",
          "text": [
            "original marks: [[50 45 70]\n",
            " [55 80 90]\n",
            " [85 55 35]\n",
            " [60 40 80]]\n",
            "copy array: [[50 60 70]\n",
            " [55 80 40]\n",
            " [85 55 35]\n",
            " [60 40 80]]\n",
            "view array: [[50 45 70]\n",
            " [55 80 90]\n",
            " [85 55 35]\n",
            " [60 40 80]]\n"
          ]
        }
      ]
    },
    {
      "cell_type": "code",
      "source": [],
      "metadata": {
        "id": "sSUjqa0EGDwG"
      },
      "execution_count": null,
      "outputs": []
    }
  ]
}